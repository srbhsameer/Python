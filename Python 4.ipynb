{
 "cells": [
  {
   "cell_type": "markdown",
   "metadata": {},
   "source": [
    "# Python 4 Assignment"
   ]
  },
  {
   "cell_type": "markdown",
   "metadata": {},
   "source": [
    "Python 4_1.1 : Write a Python Program(with class concepts) to find the area of the triangle using the below formula.\n",
    "area = (s*(s-a)*(s-b)*(s-c)) ** 0.5\n",
    "Function to take the length of the sides of triangle from user should be defined in the parent class and function to calculate the area should be defined in subclass."
   ]
  },
  {
   "cell_type": "code",
   "execution_count": 16,
   "metadata": {},
   "outputs": [],
   "source": [
    "class Triangle:\n",
    "    def __init__(self,side1,side2,side3):\n",
    "        self.side1=side1\n",
    "        self.side2=side2\n",
    "        self.side3=side3\n",
    "\n",
    "class Area(Triangle):\n",
    "    def __init__(self,side1,side2,side3):\n",
    "        super(Area,self).__init__(side1,side2,side3)\n",
    "        \n",
    "    def get_area(self):\n",
    "        s=(self.side1+self.side2+self.side3)/2\n",
    "        return (s*(s-self.side1)*(s-self.side2)*(s-self.side3))**0.5\n",
    "        \n",
    "    "
   ]
  },
  {
   "cell_type": "code",
   "execution_count": 21,
   "metadata": {},
   "outputs": [
    {
     "name": "stdout",
     "output_type": "stream",
     "text": [
      "The area for the given side of the Triangle is = 27.92848008753788\n"
     ]
    }
   ],
   "source": [
    "area = Area(7,8,11)\n",
    "print (\"The area for the given side of the Triangle is = \" + str(area.get_area()) )"
   ]
  },
  {
   "cell_type": "markdown",
   "metadata": {},
   "source": [
    "Python 4_1.2 : Write a function filter_long_words() that takes a list of words and an integer n and returns the list of words that are longer than n."
   ]
  },
  {
   "cell_type": "code",
   "execution_count": 30,
   "metadata": {},
   "outputs": [],
   "source": [
    "class Longest_word:\n",
    "    def __init__(self,word_list):\n",
    "        self.word_list= word_list\n",
    "        \n",
    "    def filter_long_words(self,n):\n",
    "        self.n=n\n",
    "        return list(filter(lambda x:len(x)>n, self.word_list))\n",
    "           "
   ]
  },
  {
   "cell_type": "code",
   "execution_count": 31,
   "metadata": {},
   "outputs": [
    {
     "name": "stdout",
     "output_type": "stream",
     "text": [
      "The list of words longer then n are : ['Write', 'function', 'takes', 'words', 'integer', 'returns']\n"
     ]
    }
   ],
   "source": [
    "word=Longest_word([\"Write\",\"a\",\"function\",\"that\",\"takes\",\"list\",\"words\",\"integer\",\"returns\"])\n",
    "print (\"The list of words longer then n are : \"+ str(word.filter_long_words(4)))"
   ]
  },
  {
   "cell_type": "markdown",
   "metadata": {},
   "source": [
    "Python 4_2.1 : Write a Python program using function concept that maps list of words into a list of integers representing the lengths of the corresponding words."
   ]
  },
  {
   "cell_type": "code",
   "execution_count": 41,
   "metadata": {},
   "outputs": [
    {
     "name": "stdout",
     "output_type": "stream",
     "text": [
      "The list which is converted from Word list is : [2, 8, 3, 4, 2, 10, 2, 3]\n"
     ]
    }
   ],
   "source": [
    "class Word_to_list:\n",
    "    def __init__(self,words):\n",
    "        self.words=words\n",
    "        \n",
    "    def convert(self):\n",
    "        \n",
    "        result = list(map(lambda x: len(x), self.words))\n",
    "  \n",
    "        return result\n",
    "    \n",
    "given_word=Word_to_list([\"as\",\"checking\",\"the\",\"code\",\"is\",\"successful\",\"or\",\"not\"])\n",
    "print(\"The list which is converted from Word list is : \" +str(given_word.convert()))"
   ]
  },
  {
   "cell_type": "markdown",
   "metadata": {},
   "source": [
    "Python 4_2.2 : Write a Python function which takes a character (i.e. a string of length 1) and returns True if it is a vowel, False otherwise."
   ]
  },
  {
   "cell_type": "code",
   "execution_count": 1,
   "metadata": {},
   "outputs": [
    {
     "name": "stdout",
     "output_type": "stream",
     "text": [
      "Enter character : U\n",
      "Given letter U is a vowel.\n"
     ]
    }
   ],
   "source": [
    "def vowel_check(letter):\n",
    "    \n",
    "    if (letter== 'a' or letter == 'e' or letter == 'i' or letter == 'o' or letter == 'u'):\n",
    "        return True\n",
    "    else:\n",
    "        return False\n",
    "    \n",
    "letter= input(\"Enter character : \")\n",
    "conv_letter= letter.lower()\n",
    "\n",
    "if (letter.isalpha() == False):\n",
    "    exit()\n",
    "    \n",
    "if (vowel_check(conv_letter)):\n",
    "    print(\"Given letter {} is a vowel.\".format(letter))\n",
    "else:\n",
    "    print( \"Given letter {} is not a vowel.\".format(letter))\n",
    "      "
   ]
  },
  {
   "cell_type": "code",
   "execution_count": null,
   "metadata": {},
   "outputs": [],
   "source": []
  },
  {
   "cell_type": "code",
   "execution_count": null,
   "metadata": {},
   "outputs": [],
   "source": []
  },
  {
   "cell_type": "code",
   "execution_count": null,
   "metadata": {},
   "outputs": [],
   "source": []
  },
  {
   "cell_type": "code",
   "execution_count": null,
   "metadata": {},
   "outputs": [],
   "source": []
  },
  {
   "cell_type": "code",
   "execution_count": null,
   "metadata": {},
   "outputs": [],
   "source": []
  },
  {
   "cell_type": "code",
   "execution_count": null,
   "metadata": {},
   "outputs": [],
   "source": []
  },
  {
   "cell_type": "code",
   "execution_count": null,
   "metadata": {},
   "outputs": [],
   "source": []
  },
  {
   "cell_type": "code",
   "execution_count": null,
   "metadata": {},
   "outputs": [],
   "source": []
  },
  {
   "cell_type": "code",
   "execution_count": null,
   "metadata": {},
   "outputs": [],
   "source": []
  }
 ],
 "metadata": {
  "kernelspec": {
   "display_name": "Python 3",
   "language": "python",
   "name": "python3"
  },
  "language_info": {
   "codemirror_mode": {
    "name": "ipython",
    "version": 3
   },
   "file_extension": ".py",
   "mimetype": "text/x-python",
   "name": "python",
   "nbconvert_exporter": "python",
   "pygments_lexer": "ipython3",
   "version": "3.7.1"
  }
 },
 "nbformat": 4,
 "nbformat_minor": 2
}

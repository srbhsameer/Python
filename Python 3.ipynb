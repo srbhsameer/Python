{
 "cells": [
  {
   "cell_type": "markdown",
   "metadata": {},
   "source": [
    "# Python 3 Assignment "
   ]
  },
  {
   "cell_type": "markdown",
   "metadata": {},
   "source": [
    "Python3_1.1 : Write a Python Program to implement your own myreduce() function which works exactly like Python's built-in function reduce()"
   ]
  },
  {
   "cell_type": "code",
   "execution_count": 5,
   "metadata": {},
   "outputs": [],
   "source": [
    "def my_sum(x, y): \n",
    "    return x + y\n",
    "\n",
    "def my_reduce(func, seq):\n",
    "    my_seq= seq[0]\n",
    "    for i in seq[1:]:\n",
    "        my_seq= func(my_seq,i)\n",
    "    return my_seq"
   ]
  },
  {
   "cell_type": "code",
   "execution_count": 6,
   "metadata": {},
   "outputs": [
    {
     "name": "stdout",
     "output_type": "stream",
     "text": [
      "10\n"
     ]
    }
   ],
   "source": [
    "print(my_reduce(my_sum, [1, 2, 3, 4]))"
   ]
  },
  {
   "cell_type": "markdown",
   "metadata": {},
   "source": [
    "Python3_1.2 : Write a Python program to implement your own myfilter() function which works exactly like Python's built-in function filter()"
   ]
  },
  {
   "cell_type": "markdown",
   "metadata": {},
   "source": [
    "filter() method to filter the even and odd from the entered list by user"
   ]
  },
  {
   "cell_type": "code",
   "execution_count": 12,
   "metadata": {},
   "outputs": [
    {
     "name": "stdout",
     "output_type": "stream",
     "text": [
      "Provide the list of number with space in between 1 2 3 4 5 6 7 8 9 10 11\n"
     ]
    },
    {
     "data": {
      "text/plain": [
       "'The even number from the provided list is: [2, 4, 6, 8, 10] and The odd number from the provided list is: [1, 3, 5, 7, 9, 11]'"
      ]
     },
     "execution_count": 12,
     "metadata": {},
     "output_type": "execute_result"
    }
   ],
   "source": [
    "num_list=[int(w) for w in input(\"Provide the list of number with space in between \").split()]\n",
    "\n",
    "def myfilter(args):\n",
    "    even_list=[]\n",
    "    odd_list=[]\n",
    "    for i in args:\n",
    "        if i%2==0:\n",
    "            even_list.append(i)\n",
    "        else:\n",
    "            odd_list.append(i)\n",
    "    return\"The even number from the provided list is: {} and The odd number from the provided list is: {}\".format(even_list,odd_list)\n",
    "    \n",
    "myfilter(num_list)"
   ]
  },
  {
   "cell_type": "markdown",
   "metadata": {},
   "source": [
    "Python3_2 : Implement List comprehensions to produce the following lists.\n",
    "Write List comprehensions to produce the following Lists.\n",
    "['A', 'C', 'A', 'D', 'G', 'I', ’L’, ‘ D’]\n",
    "['x', 'xx', 'xxx', 'xxxx', 'y', 'yy', 'yyy', 'yyyy', 'z', 'zz', 'zzz', 'zzzz'] ['x', 'y', 'z', 'xx', 'yy', 'zz', 'xxx', 'yyy', 'zzz', 'xxxx', 'yyyy', 'zzzz'] [[2], [3], [4], [3], [4], [5], [4], [5], [6]] [[2, 3, 4, 5], [3, 4, 5, 6], [4, 5, 6, 7], [5, 6, 7, 8]]\n",
    "[(1, 1), (2, 1), (3, 1), (1, 2), (2, 2), (3, 2), (1, 3), (2, 3), (3, 3)]"
   ]
  },
  {
   "cell_type": "code",
   "execution_count": 34,
   "metadata": {},
   "outputs": [],
   "source": [
    "#1st Sample\n",
    "input_word=\"ACADGILD\"\n",
    "examp_1=[alphabet for alphabet in input_word]\n",
    "\n",
    "#2nd Sample\n",
    "input_list1 = ['x','y','z']\n",
    "examp_2 = [item*num for item in input_list1 for num in range(1,5)]\n",
    "\n",
    "#3rd Sample\n",
    "input_list2 = ['x','y','z']\n",
    "examp_3 = [item*num for num in range(1,5) for item in input_list2]\n",
    "\n",
    "#4th Sample\n",
    "input_list3 = [2,3,4]\n",
    "examp_4 = [[item+num] for item in input_list3 for num in range(0,3)]\n",
    "\n",
    "#5th Sample\n",
    "input_list4 = [2,3,4,5]\n",
    "examp_5 = [[item+num for item in input_list4] for num in range(0,4)]\n",
    "\n",
    "#6th Sample\n",
    "input_list5=[1,2,3]\n",
    "input_list6=[1,2,3]\n",
    "examp_6=[(a, b) for b in input_list5 for a in input_list6 ]"
   ]
  },
  {
   "cell_type": "code",
   "execution_count": 35,
   "metadata": {},
   "outputs": [
    {
     "name": "stdout",
     "output_type": "stream",
     "text": [
      "['A', 'C', 'A', 'D', 'G', 'I', 'L', 'D']\n",
      "['x', 'xx', 'xxx', 'xxxx', 'y', 'yy', 'yyy', 'yyyy', 'z', 'zz', 'zzz', 'zzzz']\n",
      "['x', 'y', 'z', 'xx', 'yy', 'zz', 'xxx', 'yyy', 'zzz', 'xxxx', 'yyyy', 'zzzz']\n",
      "[[2], [3], [4], [3], [4], [5], [4], [5], [6]]\n",
      "[[2, 3, 4, 5], [3, 4, 5, 6], [4, 5, 6, 7], [5, 6, 7, 8]]\n",
      "[(1, 1), (2, 1), (3, 1), (1, 2), (2, 2), (3, 2), (1, 3), (2, 3), (3, 3)]\n"
     ]
    }
   ],
   "source": [
    "print(examp_1)\n",
    "print(examp_2)\n",
    "print(examp_3)\n",
    "print(examp_4)\n",
    "print(examp_5)\n",
    "print(examp_6)"
   ]
  },
  {
   "cell_type": "markdown",
   "metadata": {},
   "source": [
    "Python 3_3 : Implement a function longestWord() that takes a list of words and returns the longest one."
   ]
  },
  {
   "cell_type": "code",
   "execution_count": 41,
   "metadata": {},
   "outputs": [
    {
     "name": "stdout",
     "output_type": "stream",
     "text": [
      "Longest word in list ['solution', 'shared', 'through', 'Github', 'should', 'screenshot', 'output'] is: screenshot\n"
     ]
    }
   ],
   "source": [
    "from functools import reduce\n",
    "list_words = [\"solution\",\"shared\",\"through\",\"Github\",\"should\",\"screenshot\",\"output\"]\n",
    "\n",
    "def longestWord(list_words):\n",
    "    return reduce( (lambda x,y:y if len(y) > len(x) else x), list_words )\n",
    "\n",
    "print ('Longest word in list {} is: '.format(list_words) + longestWord(list_words) )"
   ]
  },
  {
   "cell_type": "code",
   "execution_count": null,
   "metadata": {},
   "outputs": [],
   "source": []
  },
  {
   "cell_type": "code",
   "execution_count": null,
   "metadata": {},
   "outputs": [],
   "source": []
  },
  {
   "cell_type": "code",
   "execution_count": null,
   "metadata": {},
   "outputs": [],
   "source": []
  },
  {
   "cell_type": "code",
   "execution_count": null,
   "metadata": {},
   "outputs": [],
   "source": []
  },
  {
   "cell_type": "code",
   "execution_count": null,
   "metadata": {},
   "outputs": [],
   "source": []
  },
  {
   "cell_type": "code",
   "execution_count": null,
   "metadata": {},
   "outputs": [],
   "source": []
  }
 ],
 "metadata": {
  "kernelspec": {
   "display_name": "Python 3",
   "language": "python",
   "name": "python3"
  },
  "language_info": {
   "codemirror_mode": {
    "name": "ipython",
    "version": 3
   },
   "file_extension": ".py",
   "mimetype": "text/x-python",
   "name": "python",
   "nbconvert_exporter": "python",
   "pygments_lexer": "ipython3",
   "version": "3.7.1"
  }
 },
 "nbformat": 4,
 "nbformat_minor": 2
}
